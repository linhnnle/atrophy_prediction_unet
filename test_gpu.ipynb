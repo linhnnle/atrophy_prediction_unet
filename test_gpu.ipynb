{
 "cells": [
  {
   "cell_type": "code",
   "execution_count": 4,
   "metadata": {},
   "outputs": [
    {
     "name": "stdout",
     "output_type": "stream",
     "text": [
      "True\n",
      "True\n",
      "99 1965.019775390625\n",
      "199 1382.242919921875\n",
      "299 973.533447265625\n",
      "399 686.7455444335938\n",
      "499 485.4105224609375\n",
      "599 344.00006103515625\n",
      "699 244.635498046875\n",
      "799 174.78558349609375\n",
      "899 125.66407775878906\n",
      "999 91.10664367675781\n",
      "1099 66.78667449951172\n",
      "1199 49.66564178466797\n",
      "1299 37.608795166015625\n",
      "1399 29.115638732910156\n",
      "1499 23.13118553161621\n",
      "1599 18.913305282592773\n",
      "1699 15.939769744873047\n",
      "1799 13.842973709106445\n",
      "1899 12.364091873168945\n",
      "1999 11.320807456970215\n",
      "Result: y = -0.05199597030878067 + 0.8474884033203125 x + 0.008970167487859726 x^2 + -0.09201432764530182 x^3\n"
     ]
    }
   ],
   "source": [
    "import torch\n",
    "import math\n",
    "# this ensures that the current MacOS version is at least 12.3+\n",
    "print(torch.backends.mps.is_available())\n",
    "# this ensures that the current current PyTorch installation was built with MPS activated.\n",
    "print(torch.backends.mps.is_built())\n",
    "\n",
    "dtype = torch.float\n",
    "device = torch.device(\"mps\")\n",
    "\n",
    "# Create random input and output data\n",
    "x = torch.linspace(-math.pi, math.pi, 2000, device=device, dtype=dtype)\n",
    "y = torch.sin(x)\n",
    "\n",
    "# Randomly initialize weights\n",
    "a = torch.randn((), device=device, dtype=dtype)\n",
    "b = torch.randn((), device=device, dtype=dtype)\n",
    "c = torch.randn((), device=device, dtype=dtype)\n",
    "d = torch.randn((), device=device, dtype=dtype)\n",
    "\n",
    "learning_rate = 1e-6\n",
    "for t in range(2000):\n",
    "    # Forward pass: compute predicted y\n",
    "    y_pred = a + b * x + c * x ** 2 + d * x ** 3\n",
    "\n",
    "    # Compute and print loss\n",
    "    loss = (y_pred - y).pow(2).sum().item()\n",
    "    if t % 100 == 99:\n",
    "        print(t, loss)\n",
    "\n",
    "# Backprop to compute gradients of a, b, c, d with respect to loss\n",
    "    grad_y_pred = 2.0 * (y_pred - y)\n",
    "    grad_a = grad_y_pred.sum()\n",
    "    grad_b = (grad_y_pred * x).sum()\n",
    "    grad_c = (grad_y_pred * x ** 2).sum()\n",
    "    grad_d = (grad_y_pred * x ** 3).sum()\n",
    "\n",
    "    # Update weights using gradient descent\n",
    "    a -= learning_rate * grad_a\n",
    "    b -= learning_rate * grad_b\n",
    "    c -= learning_rate * grad_c\n",
    "    d -= learning_rate * grad_d\n",
    "\n",
    "\n",
    "print(f'Result: y = {a.item()} + {b.item()} x + {c.item()} x^2 + {d.item()} x^3')"
   ]
  },
  {
   "cell_type": "code",
   "execution_count": 6,
   "metadata": {},
   "outputs": [
    {
     "name": "stdout",
     "output_type": "stream",
     "text": [
      "Out: torch.Size([1, 1, 128, 96, 128])\n",
      "In: torch.Size([1, 1, 128, 96, 128])\n"
     ]
    }
   ],
   "source": [
    "import torch\n",
    "from unet import UNet\n",
    "model = UNet(in_channels=1,\n",
    "            out_channels=1,\n",
    "            n_blocks=5,\n",
    "            start_filters=32,\n",
    "            activation='relu',\n",
    "            normalization='batch',\n",
    "            conv_mode='same',\n",
    "            dim=3)\n",
    "\n",
    "# Create a random dataset \n",
    "x = torch.randn(size=(1, 1, 128, 96, 128), dtype=torch.float32)\n",
    "\n",
    "with torch.no_grad():\n",
    "    out = model(x)\n",
    "\n",
    "print(f'Out: {out.shape}')\n",
    "print(f'In: {x.shape}')"
   ]
  }
 ],
 "metadata": {
  "kernelspec": {
   "display_name": "Python 3.8.13 ('torch-gpu')",
   "language": "python",
   "name": "python3"
  },
  "language_info": {
   "codemirror_mode": {
    "name": "ipython",
    "version": 3
   },
   "file_extension": ".py",
   "mimetype": "text/x-python",
   "name": "python",
   "nbconvert_exporter": "python",
   "pygments_lexer": "ipython3",
   "version": "3.8.13"
  },
  "orig_nbformat": 4,
  "vscode": {
   "interpreter": {
    "hash": "ae4d5529164bcdede1d7a7588c4dd4bbd6dc221689994c7461f870c59218bbe1"
   }
  }
 },
 "nbformat": 4,
 "nbformat_minor": 2
}
